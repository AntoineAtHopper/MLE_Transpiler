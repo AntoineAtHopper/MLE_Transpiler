{
  "nbformat": 4,
  "nbformat_minor": 0,
  "metadata": {
    "colab": {
      "name": "ml_embedded_transpiler.ipynb",
      "provenance": [],
      "collapsed_sections": []
    },
    "kernelspec": {
      "name": "python3",
      "display_name": "Python 3"
    },
    "language_info": {
      "name": "python"
    }
  },
  "cells": [
    {
      "cell_type": "markdown",
      "source": [
        "antoine.roux"
      ],
      "metadata": {
        "id": "s56vs1rbUEba"
      }
    },
    {
      "cell_type": "markdown",
      "source": [
        "# Activité 6 - Transpiler un modèle en C : régression linéaire"
      ],
      "metadata": {
        "id": "8j-L6XmcWnhl"
      }
    },
    {
      "cell_type": "markdown",
      "source": [
        "### Imports"
      ],
      "metadata": {
        "id": "Q92weZ38WtSy"
      }
    },
    {
      "cell_type": "code",
      "source": [
        "from sklearn.metrics import mean_squared_error, r2_score\n",
        "from sklearn import datasets, linear_model\n",
        "import matplotlib.pyplot as plt\n",
        "import numpy as np\n",
        "import joblib\n",
        "import os"
      ],
      "metadata": {
        "id": "O2SQtyW2WrUk"
      },
      "execution_count": 62,
      "outputs": []
    },
    {
      "cell_type": "markdown",
      "source": [
        "### Load and prepare dataset"
      ],
      "metadata": {
        "id": "TKcEN6g0XfUD"
      }
    },
    {
      "cell_type": "code",
      "execution_count": 63,
      "metadata": {
        "id": "wKrtmNuoWPYN"
      },
      "outputs": [],
      "source": [
        "# Load the diabetes dataset\n",
        "diabetes_X, diabetes_y = datasets.load_diabetes(return_X_y=True)\n",
        "\n",
        "# Use only one feature\n",
        "diabetes_X = diabetes_X[:, np.newaxis, 2]\n",
        "\n",
        "# Split the data into training/testing sets\n",
        "diabetes_X_train = diabetes_X[:-20]\n",
        "diabetes_X_test = diabetes_X[-20:]\n",
        "\n",
        "# Split the targets into training/testing sets\n",
        "diabetes_y_train = diabetes_y[:-20]\n",
        "diabetes_y_test = diabetes_y[-20:]"
      ]
    },
    {
      "cell_type": "markdown",
      "source": [
        "### Create and train linear regression model"
      ],
      "metadata": {
        "id": "nfEd5n70XoZ3"
      }
    },
    {
      "cell_type": "code",
      "source": [
        "# Create linear regression object\n",
        "regr = linear_model.LinearRegression()\n",
        "\n",
        "# Train the model using the training sets\n",
        "regr.fit(diabetes_X_train, diabetes_y_train)"
      ],
      "metadata": {
        "colab": {
          "base_uri": "https://localhost:8080/"
        },
        "id": "pDxemd6sehv2",
        "outputId": "cba00d78-0f5e-4c7f-f1cd-0e00e4b488b8"
      },
      "execution_count": 64,
      "outputs": [
        {
          "output_type": "execute_result",
          "data": {
            "text/plain": [
              "LinearRegression()"
            ]
          },
          "metadata": {},
          "execution_count": 64
        }
      ]
    },
    {
      "cell_type": "markdown",
      "source": [
        "### Predict and evaluate"
      ],
      "metadata": {
        "id": "jPWa6P42fxEO"
      }
    },
    {
      "cell_type": "code",
      "source": [
        "# Make predictions using the testing set\n",
        "diabetes_y_pred = regr.predict(diabetes_X_test)\n",
        "\n",
        "# The coefficients\n",
        "print(\"Coefficients: \\n\", regr.coef_)\n",
        "# The mean squared error\n",
        "print(\"Mean squared error: %.2f\" % mean_squared_error(diabetes_y_test, diabetes_y_pred))\n",
        "# The coefficient of determination: 1 is perfect prediction\n",
        "print(\"Coefficient of determination: %.2f\" % r2_score(diabetes_y_test, diabetes_y_pred))\n",
        "\n",
        "# Plot outputs\n",
        "plt.scatter(diabetes_X_test, diabetes_y_test, color=\"black\")\n",
        "plt.plot(diabetes_X_test, diabetes_y_pred, color=\"blue\", linewidth=3)\n",
        "\n",
        "plt.xticks(())\n",
        "plt.yticks(())\n",
        "\n",
        "plt.show()"
      ],
      "metadata": {
        "colab": {
          "base_uri": "https://localhost:8080/",
          "height": 321
        },
        "id": "otc0-16HX1dz",
        "outputId": "6a4c0cfd-ae65-465a-8b82-b4d928346319"
      },
      "execution_count": 65,
      "outputs": [
        {
          "output_type": "stream",
          "name": "stdout",
          "text": [
            "Coefficients: \n",
            " [938.23786125]\n",
            "Mean squared error: 2548.07\n",
            "Coefficient of determination: 0.47\n"
          ]
        },
        {
          "output_type": "display_data",
          "data": {
            "image/png": "[encoded data removed]",
            "text/plain": [
              "<Figure size 432x288 with 1 Axes>"
            ]
          },
          "metadata": {}
        }
      ]
    },
    {
      "cell_type": "markdown",
      "source": [
        "### Save regression model"
      ],
      "metadata": {
        "id": "SP5R0zA8f7Q9"
      }
    },
    {
      "cell_type": "code",
      "source": [
        "joblib.dump(regr, f\"regr.joblib\");"
      ],
      "metadata": {
        "id": "jowCaUZUXB2w"
      },
      "execution_count": 66,
      "outputs": []
    },
    {
      "cell_type": "markdown",
      "source": [
        "### Load model"
      ],
      "metadata": {
        "id": "480e8y07FoF5"
      }
    },
    {
      "cell_type": "code",
      "source": [
        "model = joblib.load(f'regr.joblib')"
      ],
      "metadata": {
        "id": "EdjnqfgQFowu"
      },
      "execution_count": 67,
      "outputs": []
    },
    {
      "cell_type": "markdown",
      "source": [
        "### Transpiling"
      ],
      "metadata": {
        "id": "n-Bh15loKPSD"
      }
    },
    {
      "cell_type": "code",
      "source": [
        "model = joblib.load(f'regr.joblib')\n",
        "\n",
        "# Thetas\n",
        "thetas = f\"{model.intercept_}f, \" + \"\".join([str(coef) + \"f, \" for coef in model.coef_])[:-2]\n",
        "\n",
        "# Features\n",
        "X = diabetes_X_test\n",
        "features = \"\".join([\"{\" + \", \".join([str(value) for value in row]) + \"}, \" for row in X])[:-1]"
      ],
      "metadata": {
        "id": "almHj8ioXCc5"
      },
      "execution_count": 68,
      "outputs": []
    },
    {
      "cell_type": "code",
      "source": [
        "code = f\"\"\"#include <stdio.h>\n",
        "\n",
        "float predict(float *features, float* thetas)\n",
        "{{\n",
        "    float res = thetas[0];\n",
        "    for (int i = 0; i < {len(model.coef_)}; i++)\n",
        "        res += features[i] * thetas[i + 1];\n",
        "    return res;\n",
        "}}\n",
        "\n",
        "int main(int argc, char *arvgv[])\n",
        "{{\n",
        "    float features[{X.shape[0]}][{X.shape[1]}] = {{{features}}};\n",
        "    float thetas[{len(model.coef_) + 1}] = {{{thetas}}};\n",
        "\n",
        "    for (int i = 0; i < {X.shape[0]}; i++)\n",
        "        printf(\"%f\\\\n\", predict(features[i], thetas));\n",
        "    \n",
        "    return 0;\n",
        "}}\n",
        "\n",
        "\"\"\"\n",
        "\n",
        "with open(\"regr.c\", \"w+\") as f:\n",
        "    f.write(code)\n",
        "\n",
        "print(code)"
      ],
      "metadata": {
        "id": "gsH3NqnuXCat",
        "colab": {
          "base_uri": "https://localhost:8080/"
        },
        "outputId": "cce544a9-0f69-4007-f6aa-6f2022175aad"
      },
      "execution_count": 69,
      "outputs": [
        {
          "output_type": "stream",
          "name": "stdout",
          "text": [
            "#include <stdio.h>\n",
            "\n",
            "float predict(float *features, float* thetas)\n",
            "{\n",
            "    float res = thetas[0];\n",
            "    for (int i = 0; i < 1; i++)\n",
            "        res += features[i] * thetas[i + 1];\n",
            "    return res;\n",
            "}\n",
            "\n",
            "int main(int argc, char *arvgv[])\n",
            "{\n",
            "    float features[20][1] = {{0.077863387626902}, {-0.0396181284261162}, {0.0110390390462862}, {-0.0406959404999971}, {-0.0342290680567117}, {0.00564997867688165}, {0.088641508365711}, {-0.0331512559828308}, {-0.0568631216082106}, {-0.030995631835069}, {0.0552293340754031}, {-0.0600965578298533}, {0.00133873038135806}, {-0.0234509473179027}, {-0.074108114790305}, {0.0196615356373334}, {-0.0159062628007364}, {-0.0159062628007364}, {0.0390621529671896}, {-0.0730303027164241},};\n",
            "    float thetas[2] = {152.91886182616167f, 938.2378612512637f};\n",
            "\n",
            "    for (int i = 0; i < 20; i++)\n",
            "        printf(\"%f\\n\", predict(features[i], thetas));\n",
            "    \n",
            "    return 0;\n",
            "}\n",
            "\n",
            "\n"
          ]
        }
      ]
    },
    {
      "cell_type": "markdown",
      "source": [
        "### Compile"
      ],
      "metadata": {
        "id": "EYSfPWU3TfCq"
      }
    },
    {
      "cell_type": "code",
      "source": [
        "! gcc regr.c -O3 -o transpiled_model"
      ],
      "metadata": {
        "id": "BsV4WPo6XCXd"
      },
      "execution_count": 70,
      "outputs": []
    },
    {
      "cell_type": "markdown",
      "source": [
        "### Comparisons"
      ],
      "metadata": {
        "id": "YSvCdFaiTjqR"
      }
    },
    {
      "cell_type": "code",
      "source": [
        "print(\"C Model (Transpiled):\")\n",
        "! ./transpiled_model"
      ],
      "metadata": {
        "id": "RqoDje2fXCUS",
        "colab": {
          "base_uri": "https://localhost:8080/"
        },
        "outputId": "9e0e78cc-1338-4198-98e4-c3cf5ab848c7"
      },
      "execution_count": 71,
      "outputs": [
        {
          "output_type": "stream",
          "name": "stdout",
          "text": [
            "C Model (Transpiled):\n",
            "225.973236\n",
            "115.747643\n",
            "163.276108\n",
            "114.736397\n",
            "120.803864\n",
            "158.219894\n",
            "236.085693\n",
            "121.815102\n",
            "99.567734\n",
            "123.837593\n",
            "204.737122\n",
            "96.534004\n",
            "154.174911\n",
            "130.916306\n",
            "83.387833\n",
            "171.366058\n",
            "137.995010\n",
            "137.995010\n",
            "189.568451\n",
            "84.399078\n"
          ]
        }
      ]
    },
    {
      "cell_type": "code",
      "source": [
        "y = regr.predict(X)\n",
        "print(\"Original model:\")\n",
        "print(\"\\n\".join(map(str, y.tolist())))"
      ],
      "metadata": {
        "id": "duKZbk3HXIWV",
        "colab": {
          "base_uri": "https://localhost:8080/"
        },
        "outputId": "8666c57e-039d-4187-c097-abd1a0527098"
      },
      "execution_count": 72,
      "outputs": [
        {
          "output_type": "stream",
          "name": "stdout",
          "text": [
            "Original model:\n",
            "225.9732401030043\n",
            "115.74763374486452\n",
            "163.27610621121843\n",
            "114.73638964983571\n",
            "120.80385422000853\n",
            "158.21988573607436\n",
            "236.08568105329238\n",
            "121.81509831503735\n",
            "99.56772822440365\n",
            "123.83758650509495\n",
            "204.7371141073994\n",
            "96.53399593931724\n",
            "154.17490935595916\n",
            "130.9162951702966\n",
            "83.38782270394276\n",
            "171.36605897144887\n",
            "137.9950038354982\n",
            "137.9950038354982\n",
            "189.56845268196736\n",
            "84.39906679897157\n"
          ]
        }
      ]
    }
  ]
}